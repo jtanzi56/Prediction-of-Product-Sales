{
  "nbformat": 4,
  "nbformat_minor": 0,
  "metadata": {
    "colab": {
      "provenance": [],
      "authorship_tag": "ABX9TyMKPmhDVlWtOhmszDDssUiK",
      "include_colab_link": true
    },
    "kernelspec": {
      "name": "python3",
      "display_name": "Python 3"
    },
    "language_info": {
      "name": "python"
    }
  },
  "cells": [
    {
      "cell_type": "markdown",
      "metadata": {
        "id": "view-in-github",
        "colab_type": "text"
      },
      "source": [
        "<a href=\"https://colab.research.google.com/github/jtanzi56/Prediction-of-Product-Sales/blob/main/Sales_Prediction_jtanzi.ipynb\" target=\"_parent\"><img src=\"https://colab.research.google.com/assets/colab-badge.svg\" alt=\"Open In Colab\"/></a>"
      ]
    },
    {
      "cell_type": "markdown",
      "source": [],
      "metadata": {
        "id": "zAz3LyPri-WD"
      }
    },
    {
      "cell_type": "markdown",
      "source": [
        "##Prediction of Product Sales\n",
        "Jacob Tanzi\n",
        "\n"
      ],
      "metadata": {
        "id": "o2_kFoFui_zn"
      }
    },
    {
      "cell_type": "markdown",
      "source": [
        "##Project Overview\n"
      ],
      "metadata": {
        "id": "Kb90oxojjSG_"
      }
    },
    {
      "cell_type": "markdown",
      "source": [
        "##Load and Inspect Data\n"
      ],
      "metadata": {
        "id": "yhdat4AAjWhZ"
      }
    },
    {
      "cell_type": "code",
      "source": [],
      "metadata": {
        "id": "yAej_CkIjRKa"
      },
      "execution_count": null,
      "outputs": []
    },
    {
      "cell_type": "markdown",
      "source": [
        "##Clean Data\n"
      ],
      "metadata": {
        "id": "f9djZSoijbi5"
      }
    },
    {
      "cell_type": "code",
      "execution_count": null,
      "metadata": {
        "id": "qMmA2JCvPR9y"
      },
      "outputs": [],
      "source": []
    },
    {
      "cell_type": "markdown",
      "source": [
        "##Exploratory Data Analysis\n"
      ],
      "metadata": {
        "id": "rqgXoSyajf1D"
      }
    },
    {
      "cell_type": "code",
      "source": [],
      "metadata": {
        "id": "MoT1jatOjkRA"
      },
      "execution_count": null,
      "outputs": []
    },
    {
      "cell_type": "markdown",
      "source": [
        "##Explanatory Data Analysis"
      ],
      "metadata": {
        "id": "TzWjxNmWjkzA"
      }
    },
    {
      "cell_type": "code",
      "source": [],
      "metadata": {
        "id": "a-fz7dJBjnL2"
      },
      "execution_count": null,
      "outputs": []
    }
  ]
}